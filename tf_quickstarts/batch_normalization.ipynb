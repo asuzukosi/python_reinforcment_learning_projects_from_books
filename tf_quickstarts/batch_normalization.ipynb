{
 "cells": [
  {
   "cell_type": "code",
   "execution_count": 1,
   "metadata": {},
   "outputs": [],
   "source": [
    "# implementation of batch normalization\n",
    "import tensorflow as tf\n",
    "import keras"
   ]
  },
  {
   "cell_type": "code",
   "execution_count": 3,
   "metadata": {},
   "outputs": [
    {
     "name": "stdout",
     "output_type": "stream",
     "text": [
      "Model: \"sequential_1\"\n",
      "_________________________________________________________________\n",
      " Layer (type)                Output Shape              Param #   \n",
      "=================================================================\n",
      " dense_3 (Dense)             (None, 1, 16)             96        \n",
      "                                                                 \n",
      " dense_4 (Dense)             (None, 1, 32)             544       \n",
      "                                                                 \n",
      " batch_normalization_1 (Bat  (None, 1, 32)             4         \n",
      " chNormalization)                                                \n",
      "                                                                 \n",
      " dense_5 (Dense)             (None, 1, 32)             1056      \n",
      "                                                                 \n",
      "=================================================================\n",
      "Total params: 1700 (6.64 KB)\n",
      "Trainable params: 1698 (6.63 KB)\n",
      "Non-trainable params: 2 (8.00 Byte)\n",
      "_________________________________________________________________\n"
     ]
    }
   ],
   "source": [
    "network = keras.models.Sequential()\n",
    "network.add(tf.keras.layers.Dense(16, input_shape=(1, 5), activation=tf.keras.activations.relu))\n",
    "network.add(tf.keras.layers.Dense(32, activation=tf.keras.activations.relu))\n",
    "network.add(tf.keras.layers.BatchNormalization(axis=1))\n",
    "network.add(tf.keras.layers.Dense(32, activation=tf.keras.activations.softmax))\n",
    "\n",
    "network.summary()"
   ]
  },
  {
   "cell_type": "code",
   "execution_count": 15,
   "metadata": {},
   "outputs": [],
   "source": [
    "# implementing batch normaliztion with mnist dataset\n",
    "from keras.datasets import mnist\n",
    "import matplotlib.pyplot as plt\n",
    "from keras import utils as numpy_utils"
   ]
  },
  {
   "cell_type": "code",
   "execution_count": 22,
   "metadata": {},
   "outputs": [
    {
     "data": {
      "text/plain": [
       "5"
      ]
     },
     "execution_count": 22,
     "metadata": {},
     "output_type": "execute_result"
    },
    {
     "data": {
      "image/png": "[encoded data removed]",
      "text/plain": [
       "<Figure size 640x480 with 1 Axes>"
      ]
     },
     "metadata": {},
     "output_type": "display_data"
    }
   ],
   "source": [
    "(x_train, y_train), (x_test, y_test) = mnist.load_data()\n",
    "\n",
    "plt.imshow(x_train[0], cmap=plt.get_cmap(\"gray\"))\n",
    "y_train[0]\n"
   ]
  },
  {
   "cell_type": "code",
   "execution_count": 23,
   "metadata": {},
   "outputs": [
    {
     "data": {
      "text/plain": [
       "(5000, 10)"
      ]
     },
     "execution_count": 23,
     "metadata": {},
     "output_type": "execute_result"
    }
   ],
   "source": [
    "x_train, x_test = x_train[:5000]/255, x_test[:1000]/255\n",
    "y_train, y_test = numpy_utils.to_categorical(y_train[:5000], num_classes=10), numpy_utils.to_categorical(y_test[:1000], num_classes=10)\n",
    "y_train.shape"
   ]
  },
  {
   "cell_type": "code",
   "execution_count": 24,
   "metadata": {},
   "outputs": [],
   "source": [
    "# create dataset from datas\n",
    "train_dataset = tf.data.Dataset.zip(tf.data.Dataset.from_tensor_slices(x_train), tf.data.Dataset.from_tensor_slices(y_train)).shuffle(50)\n",
    "valid_dataset = tf.data.Dataset.zip(tf.data.Dataset.from_tensor_slices(x_train), tf.data.Dataset.from_tensor_slices(y_train)).shuffle(50)"
   ]
  },
  {
   "cell_type": "code",
   "execution_count": 25,
   "metadata": {},
   "outputs": [
    {
     "name": "stdout",
     "output_type": "stream",
     "text": [
      "Model: \"sequential_3\"\n",
      "_________________________________________________________________\n",
      " Layer (type)                Output Shape              Param #   \n",
      "=================================================================\n",
      " flatten_1 (Flatten)         (None, 784)               0         \n",
      "                                                                 \n",
      " dense_9 (Dense)             (None, 300)               235500    \n",
      "                                                                 \n",
      " batch_normalization_4 (Bat  (None, 300)               1200      \n",
      " chNormalization)                                                \n",
      "                                                                 \n",
      " dense_10 (Dense)            (None, 300)               90300     \n",
      "                                                                 \n",
      " batch_normalization_5 (Bat  (None, 300)               1200      \n",
      " chNormalization)                                                \n",
      "                                                                 \n",
      " dense_11 (Dense)            (None, 10)                3010      \n",
      "                                                                 \n",
      "=================================================================\n",
      "Total params: 331210 (1.26 MB)\n",
      "Trainable params: 330010 (1.26 MB)\n",
      "Non-trainable params: 1200 (4.69 KB)\n",
      "_________________________________________________________________\n"
     ]
    }
   ],
   "source": [
    "# create model\n",
    "model = keras.models.Sequential([\n",
    "        keras.layers.Flatten(input_shape=(28, 28)),\n",
    "        keras.layers.Dense(300, activation=\"relu\"),\n",
    "        keras.layers.BatchNormalization(),\n",
    "        keras.layers.Dense(300, activation=\"relu\"),\n",
    "        keras.layers.BatchNormalization(),\n",
    "        keras.layers.Dense(10, activation=\"softmax\"),\n",
    "    ])\n",
    "model.build()\n",
    "model.summary()"
   ]
  },
  {
   "cell_type": "code",
   "execution_count": 29,
   "metadata": {},
   "outputs": [],
   "source": [
    "model.compile(optimizer=tf.keras.optimizers.legacy.Adam(), \n",
    "              loss=tf.keras.losses.CategoricalCrossentropy(), \n",
    "              metrics=[tf.keras.metrics.CategoricalCrossentropy()])"
   ]
  },
  {
   "cell_type": "code",
   "execution_count": 31,
   "metadata": {},
   "outputs": [
    {
     "name": "stdout",
     "output_type": "stream",
     "text": [
      "Epoch 1/9\n",
      "79/79 [==============================] - 0s 3ms/step - loss: 0.0582 - categorical_crossentropy: 0.0582 - val_loss: 0.2025 - val_categorical_crossentropy: 0.2025\n",
      "Epoch 2/9\n",
      "79/79 [==============================] - 0s 2ms/step - loss: 0.0319 - categorical_crossentropy: 0.0319 - val_loss: 0.1892 - val_categorical_crossentropy: 0.1892\n",
      "Epoch 3/9\n",
      "79/79 [==============================] - 0s 2ms/step - loss: 0.0249 - categorical_crossentropy: 0.0249 - val_loss: 0.2041 - val_categorical_crossentropy: 0.2041\n",
      "Epoch 4/9\n",
      "79/79 [==============================] - 0s 2ms/step - loss: 0.0171 - categorical_crossentropy: 0.0171 - val_loss: 0.2206 - val_categorical_crossentropy: 0.2206\n",
      "Epoch 5/9\n",
      "79/79 [==============================] - 0s 2ms/step - loss: 0.0102 - categorical_crossentropy: 0.0102 - val_loss: 0.1993 - val_categorical_crossentropy: 0.1993\n",
      "Epoch 6/9\n",
      "79/79 [==============================] - 0s 2ms/step - loss: 0.0089 - categorical_crossentropy: 0.0089 - val_loss: 0.1973 - val_categorical_crossentropy: 0.1973\n",
      "Epoch 7/9\n",
      "79/79 [==============================] - 0s 3ms/step - loss: 0.0281 - categorical_crossentropy: 0.0281 - val_loss: 0.2528 - val_categorical_crossentropy: 0.2528\n",
      "Epoch 8/9\n",
      "79/79 [==============================] - 0s 3ms/step - loss: 0.0233 - categorical_crossentropy: 0.0233 - val_loss: 0.2505 - val_categorical_crossentropy: 0.2505\n",
      "Epoch 9/9\n",
      "79/79 [==============================] - 0s 3ms/step - loss: 0.0111 - categorical_crossentropy: 0.0111 - val_loss: 0.2365 - val_categorical_crossentropy: 0.2365\n"
     ]
    },
    {
     "data": {
      "text/plain": [
       "<keras.src.callbacks.History at 0x2df27f790>"
      ]
     },
     "execution_count": 31,
     "metadata": {},
     "output_type": "execute_result"
    }
   ],
   "source": [
    "model.fit(x_train, \n",
    "          y_train, \n",
    "          batch_size=64, \n",
    "          epochs=9, \n",
    "          validation_data=(x_test, y_test))"
   ]
  }
 ],
 "metadata": {
  "kernelspec": {
   "display_name": "venv",
   "language": "python",
   "name": "python3"
  },
  "language_info": {
   "codemirror_mode": {
    "name": "ipython",
    "version": 3
   },
   "file_extension": ".py",
   "mimetype": "text/x-python",
   "name": "python",
   "nbconvert_exporter": "python",
   "pygments_lexer": "ipython3",
   "version": "3.11.3"
  },
  "orig_nbformat": 4
 },
 "nbformat": 4,
 "nbformat_minor": 2
}
