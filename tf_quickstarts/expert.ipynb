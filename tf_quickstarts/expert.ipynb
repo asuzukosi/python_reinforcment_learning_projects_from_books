{
 "cells": [
  {
   "cell_type": "code",
   "execution_count": 1,
   "metadata": {},
   "outputs": [],
   "source": [
    "# work on tensorflow quick start for experts\n",
    "import tensorflow as tf"
   ]
  },
  {
   "cell_type": "code",
   "execution_count": 3,
   "metadata": {},
   "outputs": [],
   "source": [
    "# import dataset\n",
    "(x_train, y_train), (x_test, y_test) = tf.keras.datasets.mnist.load_data()\n",
    "# normalize the image data\n",
    "x_train, x_test = x_train/255, x_test/255"
   ]
  },
  {
   "cell_type": "code",
   "execution_count": 4,
   "metadata": {},
   "outputs": [],
   "source": [
    "# add channels dimension\n",
    "x_train = x_train[..., tf.newaxis].astype(\"float32\")\n",
    "x_test = x_test[..., tf.newaxis].astype(\"float32\")"
   ]
  },
  {
   "cell_type": "code",
   "execution_count": 6,
   "metadata": {},
   "outputs": [],
   "source": [
    "# create dataset from slices and split them into batches\n",
    "training_ds = tf.data.Dataset.from_tensor_slices((x_train, y_train)).shuffle(1000).batch(32)\n",
    "test_ds = tf.data.Dataset.from_tensor_slices((x_test, y_test)).batch(32)"
   ]
  },
  {
   "cell_type": "code",
   "execution_count": 76,
   "metadata": {},
   "outputs": [],
   "source": [
    "# create model class by subclassing the keras model API\n",
    "\n",
    "class MyModel(tf.keras.Model):\n",
    "    def __init__(self):\n",
    "        super(MyModel, self).__init__()\n",
    "        self.conv1 = tf.keras.layers.Conv2D(32, 3, activation=\"relu\")\n",
    "        self.flatten = tf.keras.layers.Flatten()\n",
    "        self.d1 = tf.keras.layers.Dense(128, activation=\"relu\")\n",
    "        self.batch_norm = tf.keras.layers.BatchNormalization(axis=1)\n",
    "        self.d2 = tf.keras.layers.Dense(10)\n",
    "    \n",
    "    \n",
    "    def call(self, inputs, training=None, mask=None):\n",
    "        x = self.conv1(inputs)\n",
    "        x = self.flatten(x)\n",
    "        x = self.d1(x)\n",
    "        # perform batch normalization if training\n",
    "        if training:\n",
    "            x = self.batch_norm(x)\n",
    "        x = self.d2(x)\n",
    "        return x\n",
    "\n",
    "# # dont use the output parameter as it is already being used by the tensorflow framework\n",
    "# myModel = MyModel()\n",
    "\n",
    "# class MyModel(tf.keras.Model):\n",
    "#     def __init__(self):\n",
    "#         super(MyModel, self).__init__()\n",
    "#         self.conv1 = tf.keras.layers.Conv2D(32, 3, activation='relu')\n",
    "#         self.flatten = tf.keras.layers.Flatten()\n",
    "#         self.d1 = tf.keras.layers.Dense(128, activation='relu')\n",
    "#         self.d2 = tf.keras.layers.Dense(10)\n",
    "\n",
    "#     def call(self, x):\n",
    "#         x = self.conv1(x)\n",
    "#         x = self.flatten(x)\n",
    "#         x = self.d1(x)\n",
    "#         return self.d2(x)\n",
    "\n",
    "# Create an instance of the model\n",
    "model = MyModel()"
   ]
  },
  {
   "cell_type": "code",
   "execution_count": 77,
   "metadata": {},
   "outputs": [],
   "source": [
    "# instantiate loss and optimizer\n",
    "loss = tf.keras.losses.SparseCategoricalCrossentropy(from_logits=True)\n",
    "optimizer = tf.keras.optimizers.legacy.Adam() # using legacy adam optimizer becuase the current implementation of the adam optimizer does not perform well on mac books"
   ]
  },
  {
   "cell_type": "code",
   "execution_count": 78,
   "metadata": {},
   "outputs": [],
   "source": [
    "# create training loss and accuracy\n",
    "training_loss = tf.keras.metrics.Mean(name='training_loss')\n",
    "training_accuracy = tf.keras.metrics.SparseCategoricalAccuracy(name='training_accuracy')\n",
    "\n",
    "# create test loss and accuracy\n",
    "test_loss = tf.keras.metrics.Mean(name='test_loss')\n",
    "test_accuracy = tf.keras.metrics.SparseCategoricalAccuracy(name='test_accuracy')"
   ]
  },
  {
   "cell_type": "code",
   "execution_count": 79,
   "metadata": {},
   "outputs": [],
   "source": [
    "@tf.function\n",
    "def training_step(model, loss_fn, optimizer, training_loss, training_accuracy, x_train, y_train):\n",
    "    with tf.GradientTape() as tape:\n",
    "        logits = model(x_train, training=True)\n",
    "        loss = loss_fn(y_train, logits)\n",
    "    gradients = tape.gradient(loss, model.trainable_variables)\n",
    "    optimizer.apply_gradients(zip(gradients, model.trainable_variables))\n",
    "    # add training loss and accuracy\n",
    "    training_loss(loss)\n",
    "    training_accuracy(y_train, logits)"
   ]
  },
  {
   "cell_type": "code",
   "execution_count": 80,
   "metadata": {},
   "outputs": [],
   "source": [
    "@tf.function\n",
    "def test_step(model, loss_fn, test_loss, test_accuracy, x_test, y_test):\n",
    "    logits = model(x_test, training=False)\n",
    "    loss = loss_fn(y_test, logits)\n",
    "    # add test loss and accuracy\n",
    "    test_loss(loss)\n",
    "    test_accuracy(y_test, logits)"
   ]
  },
  {
   "cell_type": "code",
   "execution_count": 81,
   "metadata": {},
   "outputs": [
    {
     "name": "stdout",
     "output_type": "stream",
     "text": [
      "Epoch 1, Loss: 0.13008859753608704, Accuracy: 96.06500244140625, Test Loss: 0.5512877106666565, Test Accuracy: 86.48999786376953\n",
      "Epoch 2, Loss: 0.08879796415567398, Accuracy: 98.52333068847656, Test Loss: 0.38938674330711365, Test Accuracy: 92.83000183105469\n",
      "Epoch 3, Loss: 0.06787770986557007, Accuracy: 99.17333221435547, Test Loss: 0.43541091680526733, Test Accuracy: 88.2300033569336\n",
      "Epoch 4, Loss: 0.0548548549413681, Accuracy: 99.49500274658203, Test Loss: 0.29823029041290283, Test Accuracy: 92.1500015258789\n",
      "Epoch 5, Loss: 0.04661491885781288, Accuracy: 99.52832794189453, Test Loss: 0.2038724571466446, Test Accuracy: 95.26000213623047\n"
     ]
    }
   ],
   "source": [
    "num_epochs = 5\n",
    "for epoch in range(1, num_epochs+1):\n",
    "    # reset the states of all the metrics\n",
    "    training_accuracy.reset_states()\n",
    "    training_accuracy.reset_states()\n",
    "    test_loss.reset_states()\n",
    "    test_accuracy.reset_states()\n",
    "    \n",
    "    for image, labels in training_ds:\n",
    "        training_step(model, loss, optimizer, training_loss, training_accuracy, image, labels)\n",
    "    \n",
    "    for image, labels in test_ds:\n",
    "        test_step(model, loss,  test_loss, test_accuracy, image, labels)\n",
    "    \n",
    "    # .result is used for metrics\n",
    "    print(\n",
    "        f'Epoch {epoch}, '\n",
    "        f'Loss: {training_loss.result()}, '\n",
    "        f'Accuracy: {training_accuracy.result() * 100}, '\n",
    "        f'Test Loss: {test_loss.result()}, '\n",
    "        f'Test Accuracy: {test_accuracy.result() * 100}'\n",
    "    )"
   ]
  },
  {
   "cell_type": "code",
   "execution_count": 2,
   "metadata": {},
   "outputs": [],
   "source": [
    "from queue import Queue\n",
    "\n",
    "my_queue = Queue(maxsize=3)"
   ]
  },
  {
   "cell_type": "code",
   "execution_count": 6,
   "metadata": {},
   "outputs": [],
   "source": [
    "my_queue.put(1)\n"
   ]
  }
 ],
 "metadata": {
  "kernelspec": {
   "display_name": "venv",
   "language": "python",
   "name": "python3"
  },
  "language_info": {
   "codemirror_mode": {
    "name": "ipython",
    "version": 3
   },
   "file_extension": ".py",
   "mimetype": "text/x-python",
   "name": "python",
   "nbconvert_exporter": "python",
   "pygments_lexer": "ipython3",
   "version": "3.11.3"
  },
  "orig_nbformat": 4
 },
 "nbformat": 4,
 "nbformat_minor": 2
}
