{
 "cells": [
  {
   "cell_type": "code",
   "execution_count": 1,
   "metadata": {},
   "outputs": [],
   "source": [
    "# beginner introduction to tensorflow\n",
    "import tensorflow as tf\n",
    "import keras\n"
   ]
  },
  {
   "cell_type": "code",
   "execution_count": 2,
   "metadata": {},
   "outputs": [
    {
     "name": "stdout",
     "output_type": "stream",
     "text": [
      "TensorFlow version  2.13.0-rc0\n"
     ]
    }
   ],
   "source": [
    "# print tensor flow version\n",
    "print(\"TensorFlow version \", tf.__version__)"
   ]
  },
  {
   "cell_type": "code",
   "execution_count": 4,
   "metadata": {},
   "outputs": [],
   "source": [
    "# load data from mnist\n",
    "(x_train, y_train), (x_test, y_test) = tf.keras.datasets.mnist.load_data()\n",
    "# normalize the data\n",
    "x_train, x_test = x_train/255, x_test/255"
   ]
  },
  {
   "cell_type": "code",
   "execution_count": 10,
   "metadata": {},
   "outputs": [
    {
     "name": "stdout",
     "output_type": "stream",
     "text": [
      "Model: \"sequential_2\"\n",
      "_________________________________________________________________\n",
      " Layer (type)                Output Shape              Param #   \n",
      "=================================================================\n",
      " flatten (Flatten)           (None, 784)               0         \n",
      "                                                                 \n",
      " dense (Dense)               (None, 128)               100480    \n",
      "                                                                 \n",
      " dropout_2 (Dropout)         (None, 128)               0         \n",
      "                                                                 \n",
      " dense_4 (Dense)             (None, 10)                1290      \n",
      "                                                                 \n",
      "=================================================================\n",
      "Total params: 101770 (397.54 KB)\n",
      "Trainable params: 101770 (397.54 KB)\n",
      "Non-trainable params: 0 (0.00 Byte)\n",
      "_________________________________________________________________\n"
     ]
    }
   ],
   "source": [
    "# build a sequential machine learning model\n",
    "model = tf.keras.models.Sequential([\n",
    "    tf.keras.layers.Flatten(input_shape=(28, 28), name=\"flatten\"),\n",
    "    tf.keras.layers.Dense(128, activation=\"relu\", name=\"dense\"),\n",
    "    tf.keras.layers.Dropout(0.2),\n",
    "    tf.keras.layers.Dense(10) # dont use softmax at the end of activation layer, \n",
    "                              # makes calculation of loss difficult.\n",
    "])\n",
    "model.build()\n",
    "model.summary()"
   ]
  },
  {
   "cell_type": "code",
   "execution_count": 12,
   "metadata": {},
   "outputs": [
    {
     "data": {
      "text/plain": [
       "array([[-0.4457718 , -0.05964347, -0.5374733 ,  0.07596178, -0.03127022,\n",
       "        -0.19606507, -0.1625329 , -0.64230007,  0.6267793 , -0.14814305]],\n",
       "      dtype=float32)"
      ]
     },
     "execution_count": 12,
     "metadata": {},
     "output_type": "execute_result"
    }
   ],
   "source": [
    "# make prediction with data\n",
    "prediction = model(x_train[:1]).numpy()\n",
    "prediction\n",
    "# input of tensorflow must be a list of elements even if it is just a single item"
   ]
  },
  {
   "cell_type": "code",
   "execution_count": 15,
   "metadata": {},
   "outputs": [
    {
     "data": {
      "text/plain": [
       "array([[0.07000668, 0.10299896, 0.06387252, 0.1179575 , 0.10596325,\n",
       "        0.089864  , 0.09292842, 0.05751595, 0.20461738, 0.09427532]],\n",
       "      dtype=float32)"
      ]
     },
     "execution_count": 15,
     "metadata": {},
     "output_type": "execute_result"
    }
   ],
   "source": [
    "# get softmax values for prediction\n",
    "tf.nn.softmax(prediction).numpy() # .numpy() operator turns tensor flow tensor into a numpy array"
   ]
  },
  {
   "cell_type": "code",
   "execution_count": 19,
   "metadata": {},
   "outputs": [
    {
     "data": {
      "text/plain": [
       "2.4094577"
      ]
     },
     "execution_count": 19,
     "metadata": {},
     "output_type": "execute_result"
    }
   ],
   "source": [
    "# we would define a loss function of sparse cross entropy becuase our y values have not been one hot encoded\n",
    "loss_fn = tf.keras.losses.SparseCategoricalCrossentropy(from_logits=True)\n",
    "# calculate the loss of the network thus far\n",
    "loss = loss_fn(y_train[:1], prediction)\n",
    "loss.numpy()"
   ]
  },
  {
   "cell_type": "code",
   "execution_count": 20,
   "metadata": {},
   "outputs": [],
   "source": [
    "# compile model by specifying the loss, optimizer and metircs\n",
    "model.compile(loss=loss_fn, \n",
    "              optimizer=\"adam\", \n",
    "              metrics=[\"accuracy\"])"
   ]
  },
  {
   "cell_type": "code",
   "execution_count": 21,
   "metadata": {},
   "outputs": [
    {
     "name": "stdout",
     "output_type": "stream",
     "text": [
      "Epoch 1/3\n",
      "1875/1875 [==============================] - 2s 754us/step - loss: 0.2888 - accuracy: 0.9176\n",
      "Epoch 2/3\n",
      "1875/1875 [==============================] - 1s 699us/step - loss: 0.1414 - accuracy: 0.9574\n",
      "Epoch 3/3\n",
      "1875/1875 [==============================] - 1s 703us/step - loss: 0.1044 - accuracy: 0.9687\n"
     ]
    },
    {
     "data": {
      "text/plain": [
       "<keras.src.callbacks.History at 0x1480be2d0>"
      ]
     },
     "execution_count": 21,
     "metadata": {},
     "output_type": "execute_result"
    }
   ],
   "source": [
    "# fit to train the model to the data\n",
    "model.fit(x_train,\n",
    "          y_train, \n",
    "          epochs=3)"
   ]
  },
  {
   "cell_type": "code",
   "execution_count": 22,
   "metadata": {},
   "outputs": [
    {
     "name": "stdout",
     "output_type": "stream",
     "text": [
      "313/313 - 0s - loss: 0.0855 - accuracy: 0.9726 - 214ms/epoch - 684us/step\n"
     ]
    },
    {
     "data": {
      "text/plain": [
       "[0.08549690991640091, 0.972599983215332]"
      ]
     },
     "execution_count": 22,
     "metadata": {},
     "output_type": "execute_result"
    }
   ],
   "source": [
    "model.evaluate(x_test, y_test, verbose=2)"
   ]
  },
  {
   "cell_type": "code",
   "execution_count": 49,
   "metadata": {},
   "outputs": [
    {
     "name": "stdout",
     "output_type": "stream",
     "text": [
      "Model: \"prob_model\"\n",
      "_________________________________________________________________\n",
      " Layer (type)                Output Shape              Param #   \n",
      "=================================================================\n",
      " sequential_2 (Sequential)   (None, 10)                101770    \n",
      "                                                                 \n",
      " softmax_9 (Softmax)         (None, 10)                0         \n",
      "                                                                 \n",
      "=================================================================\n",
      "Total params: 101770 (397.54 KB)\n",
      "Trainable params: 101770 (397.54 KB)\n",
      "Non-trainable params: 0 (0.00 Byte)\n",
      "_________________________________________________________________\n"
     ]
    }
   ],
   "source": [
    "# turn trained model into porbability model\n",
    "prob_model = tf.keras.models.Sequential([\n",
    "    model,\n",
    "    tf.keras.layers.Softmax()\n",
    "], name=\"prob_model\")\n",
    "prob_model.build()\n",
    "prob_model.summary()"
   ]
  },
  {
   "cell_type": "code",
   "execution_count": 50,
   "metadata": {},
   "outputs": [
    {
     "data": {
      "text/plain": [
       "<tf.Tensor: shape=(5, 10), dtype=float32, numpy=\n",
       "array([[1.8636548e-07, 3.2799608e-08, 5.5297401e-06, 2.2877506e-05,\n",
       "        2.6210508e-11, 1.6885321e-06, 2.2343561e-11, 9.9996543e-01,\n",
       "        8.7614893e-08, 4.2019610e-06],\n",
       "       [2.5417081e-05, 4.7298003e-04, 9.9744594e-01, 1.7856327e-03,\n",
       "        4.6400728e-10, 2.5336939e-04, 1.0717102e-05, 2.5635044e-13,\n",
       "        6.0965231e-06, 1.8214587e-09],\n",
       "       [1.1998703e-05, 9.8826319e-01, 2.4189749e-03, 1.8842715e-04,\n",
       "        7.7688001e-04, 1.8721682e-04, 1.2796877e-03, 4.4215019e-03,\n",
       "        2.3970862e-03, 5.5146153e-05],\n",
       "       [9.9984396e-01, 1.1745184e-08, 3.7632388e-05, 5.0541001e-07,\n",
       "        8.0546727e-08, 4.3452906e-06, 6.9135996e-05, 2.4972413e-05,\n",
       "        3.1322823e-08, 1.9122084e-05],\n",
       "       [4.0882438e-05, 2.3136726e-08, 1.2747733e-05, 1.8349393e-08,\n",
       "        9.9659145e-01, 2.9889274e-05, 9.6644681e-06, 7.9705947e-05,\n",
       "        4.0159298e-06, 3.2315899e-03]], dtype=float32)>"
      ]
     },
     "execution_count": 50,
     "metadata": {},
     "output_type": "execute_result"
    }
   ],
   "source": [
    "prob_model(x_test[:5])\n",
    "# model now returning probabilities"
   ]
  },
  {
   "cell_type": "code",
   "execution_count": 28,
   "metadata": {},
   "outputs": [
    {
     "name": "stdout",
     "output_type": "stream",
     "text": [
      "nan\n"
     ]
    }
   ],
   "source": [
    "import pandas as pd\n",
    "\n",
    "data = {'name': ['Sam', 'John', 'Tim', 'Tom', 'Singh', 'Song', 'Gold', 'Simp'],\n",
    " 'age': [21, 34, 54, 76, 23, 10, 23, 100]}\n",
    "df = pd.DataFrame(data)\n",
    "\n",
    "categories = pd.cut([8], bins=[9, 20, 40, 70, 100], labels=[ 0, 1, 2, 3])[0]\n",
    "\n",
    "print(categories)"
   ]
  },
  {
   "cell_type": "code",
   "execution_count": 13,
   "metadata": {},
   "outputs": [
    {
     "data": {
      "text/plain": [
       "[-0.0001, 4.9999, 10]"
      ]
     },
     "execution_count": 13,
     "metadata": {},
     "output_type": "execute_result"
    }
   ],
   "source": [
    "# bucketing continous values within a range\n",
    "max_value = 10\n",
    "min_value = 0\n",
    "\n",
    "num_buckets = 2\n",
    "bins = []\n",
    "gap = (max_value - min_value)/num_buckets\n",
    "start_point = min_value - 0.0001\n",
    "bins.append(start_point)\n",
    "for i in range(num_buckets-1):\n",
    "    start_point += gap\n",
    "    bins.append(start_point)\n",
    "bins.append(max_value)\n",
    "\n",
    "bins    "
   ]
  },
  {
   "cell_type": "code",
   "execution_count": 20,
   "metadata": {},
   "outputs": [
    {
     "data": {
      "text/plain": [
       "[0.999, 3.249, 5.4990000000000006, 7.7490000000000006, 10]"
      ]
     },
     "execution_count": 20,
     "metadata": {},
     "output_type": "execute_result"
    }
   ],
   "source": [
    "def get_bukets(min_value, max_value, num_buckets=10, shift=1e-3):\n",
    "    # defines the total gap from minimum to maximum\n",
    "    gap = max_value - min_value\n",
    "    # defines the interval for each step based on number of buckes\n",
    "    interval = gap/num_buckets\n",
    "    start_point = min_value - shift\n",
    "    bukets = []\n",
    "    bukets.append(start_point)\n",
    "    for i in range(num_buckets -1):\n",
    "        start_point += interval\n",
    "        bukets.append(start_point)\n",
    "    bukets.append(max_value)\n",
    "    \n",
    "    return bukets\n",
    "\n",
    "get_bukets(1, 10, 4)"
   ]
  },
  {
   "cell_type": "code",
   "execution_count": 1,
   "metadata": {},
   "outputs": [
    {
     "ename": "ValueError",
     "evalue": "too many values to unpack (expected 2)",
     "output_type": "error",
     "traceback": [
      "\u001b[0;31m---------------------------------------------------------------------------\u001b[0m",
      "\u001b[0;31mValueError\u001b[0m                                Traceback (most recent call last)",
      "Cell \u001b[0;32mIn[1], line 1\u001b[0m\n\u001b[0;32m----> 1\u001b[0m hey, hi \u001b[39m=\u001b[39m (\u001b[39m1\u001b[39m,  \u001b[39m2\u001b[39m, \u001b[39m3\u001b[39m)\n",
      "\u001b[0;31mValueError\u001b[0m: too many values to unpack (expected 2)"
     ]
    }
   ],
   "source": [
    "hey, hi = (1,  2, 3)"
   ]
  },
  {
   "cell_type": "code",
   "execution_count": 1,
   "metadata": {},
   "outputs": [
    {
     "data": {
      "text/plain": [
       "deque([2, 3, 4])"
      ]
     },
     "execution_count": 1,
     "metadata": {},
     "output_type": "execute_result"
    }
   ],
   "source": [
    "from collections import deque\n",
    "\n",
    "data = deque([2, 3, 4])\n",
    "data"
   ]
  },
  {
   "cell_type": "code",
   "execution_count": 2,
   "metadata": {},
   "outputs": [
    {
     "data": {
      "text/plain": [
       "deque([1, 2, 3, 4])"
      ]
     },
     "execution_count": 2,
     "metadata": {},
     "output_type": "execute_result"
    }
   ],
   "source": [
    "data.appendleft(1)\n",
    "data"
   ]
  },
  {
   "cell_type": "code",
   "execution_count": 3,
   "metadata": {},
   "outputs": [
    {
     "data": {
      "text/plain": [
       "deque([1, 2, 3, 4, 5])"
      ]
     },
     "execution_count": 3,
     "metadata": {},
     "output_type": "execute_result"
    }
   ],
   "source": [
    "data.append(5)\n",
    "data"
   ]
  },
  {
   "cell_type": "code",
   "execution_count": 10,
   "metadata": {},
   "outputs": [
    {
     "data": {
      "text/plain": [
       "deque([1, 2, 3, 4, 5])"
      ]
     },
     "execution_count": 10,
     "metadata": {},
     "output_type": "execute_result"
    }
   ],
   "source": [
    "data.rotate(-3)\n",
    "data"
   ]
  },
  {
   "cell_type": "code",
   "execution_count": 20,
   "metadata": {},
   "outputs": [
    {
     "data": {
      "text/plain": [
       "[4, 5]"
      ]
     },
     "execution_count": 20,
     "metadata": {},
     "output_type": "execute_result"
    }
   ],
   "source": [
    "list(data)[-3+1:]"
   ]
  },
  {
   "cell_type": "code",
   "execution_count": 21,
   "metadata": {},
   "outputs": [],
   "source": [
    "import numpy as np\n",
    "data = np.array([[1,2,3],[4,5,6]])"
   ]
  },
  {
   "cell_type": "code",
   "execution_count": 23,
   "metadata": {},
   "outputs": [
    {
     "data": {
      "text/plain": [
       "array([3, 6])"
      ]
     },
     "execution_count": 23,
     "metadata": {},
     "output_type": "execute_result"
    }
   ],
   "source": [
    "np.max(data, axis=1)"
   ]
  },
  {
   "cell_type": "code",
   "execution_count": 25,
   "metadata": {},
   "outputs": [],
   "source": [
    "my_list = [1, 2, 3] + [4, 5]"
   ]
  },
  {
   "cell_type": "code",
   "execution_count": 29,
   "metadata": {},
   "outputs": [
    {
     "data": {
      "text/plain": [
       "[2, 3]"
      ]
     },
     "execution_count": 29,
     "metadata": {},
     "output_type": "execute_result"
    }
   ],
   "source": [
    "my_list[1: 3]"
   ]
  }
 ],
 "metadata": {
  "kernelspec": {
   "display_name": "venv",
   "language": "python",
   "name": "python3"
  },
  "language_info": {
   "codemirror_mode": {
    "name": "ipython",
    "version": 3
   },
   "file_extension": ".py",
   "mimetype": "text/x-python",
   "name": "python",
   "nbconvert_exporter": "python",
   "pygments_lexer": "ipython3",
   "version": "3.11.3"
  },
  "orig_nbformat": 4
 },
 "nbformat": 4,
 "nbformat_minor": 2
}
